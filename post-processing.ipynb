{
 "cells": [
  {
   "cell_type": "code",
   "execution_count": 95,
   "metadata": {
    "collapsed": false
   },
   "outputs": [],
   "source": [
    "import requests\n",
    "from pprint import pprint\n",
    "import pandas as pd\n",
    "import json\n",
    "from gensim import corpora, models, similarities"
   ]
  },
  {
   "cell_type": "code",
   "execution_count": 96,
   "metadata": {
    "collapsed": true
   },
   "outputs": [],
   "source": [
    "import logging\n",
    "logging.basicConfig(format='%(asctime)s : %(levelname)s : %(message)s', level=logging.INFO)"
   ]
  },
  {
   "cell_type": "code",
   "execution_count": 97,
   "metadata": {
    "collapsed": false
   },
   "outputs": [
    {
     "name": "stdout",
     "output_type": "stream",
     "text": [
      "[{'__v': 0,\n",
      "  '_chunks': [{'_id': '56aba31b9b1c17c8c8532b0d',\n",
      "               'ad_id': 2597,\n",
      "               'chunk_id': 53704,\n",
      "               'content': 'The Public Sector Health team is searching for a '\n",
      "                          'sales executive to biggest Healthcare customers in '\n",
      "                          'Finland. The Account Executive (Healthcare) role '\n",
      "                          'adds value to Microsoft by delivering a '\n",
      "                          'well-managed, profitable and growing business '\n",
      "                          'produced through relationship- and sales-excellence '\n",
      "                          'practices where the customer views the Account '\n",
      "                          'Executive as a trusted advisor. Vertical '\n",
      "                          'understanding of Healthcare and solutions. Sales '\n",
      "                          'Excellence in Relationship Management, Opportunity '\n",
      "                          'Management and Business Management enabled through '\n",
      "                          'tools, processes and scorecards. Together, they '\n",
      "                          'build strong trusted advisor relationships, yield '\n",
      "                          'high customer satisfaction and goal attainment. '}],\n",
      "  '_id': '56b0aa969b1c17c8c8547520',\n",
      "  'content': 'introduction',\n",
      "  'updated': '2016-02-02T13:09:42.156Z'},\n",
      " {'__v': 0,\n",
      "  '_chunks': [{'_id': '56aba31b9b1c17c8c8532b0c',\n",
      "               'ad_id': 2597,\n",
      "               'chunk_id': 53703,\n",
      "               'content': 'Account Executive Health (902280)'}],\n",
      "  '_id': '56b0aa969b1c17c8c8547521',\n",
      "  'content': 'job title',\n",
      "  'updated': '2016-02-02T13:09:42.154Z'},\n",
      " {'__v': 0,\n",
      "  '_chunks': [{'_id': '56aba31b9b1c17c8c8532b0e',\n",
      "               'ad_id': 2597,\n",
      "               'chunk_id': 53705,\n",
      "               'content': 'As a Account Executive and Health Lead your key '\n",
      "                          'responsibilities would be:'},\n",
      "              {'_id': '56aba31b9b1c17c8c8532b0f',\n",
      "               'ad_id': 2597,\n",
      "               'chunk_id': 53706,\n",
      "               'content': 'Drive Microsoft towards trusted advisor status with '\n",
      "                          'select customers and build relationships with key '\n",
      "                          'executives.'},\n",
      "              {'_id': '56aba31b9b1c17c8c8532b10',\n",
      "               'ad_id': 2597,\n",
      "               'chunk_id': 53707,\n",
      "               'content': 'Own the execution of large or strategic '\n",
      "                          'opportunities within assigned accounts through '\n",
      "                          'closure.'},\n",
      "              {'_id': '56aba31b9b1c17c8c8532b12',\n",
      "               'ad_id': 2597,\n",
      "               'chunk_id': 53709,\n",
      "               'content': 'Lead Strategic Planning of Health sector in Finland '\n",
      "                          'to growth.'},\n",
      "              {'_id': '56aba31b9b1c17c8c8532b11',\n",
      "               'ad_id': 2597,\n",
      "               'chunk_id': 53708,\n",
      "               'content': 'Orchestrate partner and Microsoft resources to '\n",
      "                          'drive opportunities to closure.'},\n",
      "              {'_id': '56aba31b9b1c17c8c8532b13',\n",
      "               'ad_id': 2597,\n",
      "               'chunk_id': 53710,\n",
      "               'content': 'Validate customer &amp; partner satisfaction '\n",
      "                          'throughout the sales cycle; conduct win/loss '\n",
      "                          'reviews.'}],\n",
      "  '_id': '56b0aa969b1c17c8c8547522',\n",
      "  'content': 'responsibilities',\n",
      "  'updated': '2016-02-02T13:09:42.157Z'},\n",
      " {'__v': 0,\n",
      "  '_chunks': [{'_id': '56aba31b9b1c17c8c8532b1c',\n",
      "               'ad_id': 2597,\n",
      "               'chunk_id': 53719,\n",
      "               'content': 'Microsoft is an equal opportunity employer and '\n",
      "                          'supports workforce diversity.'}],\n",
      "  '_id': '56b0aa969b1c17c8c8547523',\n",
      "  'content': 'advertisment',\n",
      "  'updated': '2016-02-02T13:09:42.157Z'},\n",
      " {'__v': 0,\n",
      "  '_chunks': [{'_id': '56aba31c9b1c17c8c853b420',\n",
      "               'ad_id': 4227,\n",
      "               'chunk_id': 88795,\n",
      "               'content': 'Key reponsibilities and tasks'},\n",
      "              {'_id': '56aba31c9b1c17c8c853b421',\n",
      "               'ad_id': 4227,\n",
      "               'chunk_id': 88796,\n",
      "               'content': 'Development of profitable customer solutions, with '\n",
      "                          'a holistic view on the customer needs and services '\n",
      "                          'delivered by Nets'},\n",
      "              {'_id': '56aba31c9b1c17c8c853b422',\n",
      "               'ad_id': 4227,\n",
      "               'chunk_id': 88797,\n",
      "               'content': 'Participate in customer pre-study projects and RFP '\n",
      "                          'processes'},\n",
      "              {'_id': '56aba31b9b1c17c8c8532b14',\n",
      "               'ad_id': 2597,\n",
      "               'chunk_id': 53711,\n",
      "               'content': 'The ideal candidate will have at least 5 years of '\n",
      "                          'competitive sales experience in Healthcare segment '\n",
      "                          'as well as being from a like industry and will also '\n",
      "                          'have a strong background in contract and licensing '\n",
      "                          'negotiations.'},\n",
      "              {'_id': '56aba31b9b1c17c8c8532b15',\n",
      "               'ad_id': 2597,\n",
      "               'chunk_id': 53712,\n",
      "               'content': 'Requirements'},\n",
      "              {'_id': '56aba31b9b1c17c8c8532b17',\n",
      "               'ad_id': 2597,\n",
      "               'chunk_id': 53714,\n",
      "               'content': 'Excellent organizational skills, with strong '\n",
      "                          'attention to detail'},\n",
      "              {'_id': '56aba31b9b1c17c8c8532b16',\n",
      "               'ad_id': 2597,\n",
      "               'chunk_id': 53713,\n",
      "               'content': '5-10+ years of like sales experience on Healthcare '\n",
      "                          'vertical..'},\n",
      "              {'_id': '56aba31b9b1c17c8c8532b18',\n",
      "               'ad_id': 2597,\n",
      "               'chunk_id': 53715,\n",
      "               'content': 'Motivated self-starter with history of operating as '\n",
      "                          'a leader of teams that are not direct reports'},\n",
      "              {'_id': '56aba31b9b1c17c8c8532b19',\n",
      "               'ad_id': 2597,\n",
      "               'chunk_id': 53716,\n",
      "               'content': 'Strong interpersonal skills'},\n",
      "              {'_id': '56aba31b9b1c17c8c8532b1a',\n",
      "               'ad_id': 2597,\n",
      "               'chunk_id': 53717,\n",
      "               'content': 'Outstanding collaborator across groups and '\n",
      "                          'companies'},\n",
      "              {'_id': '56aba31b9b1c17c8c8532b1b',\n",
      "               'ad_id': 2597,\n",
      "               'chunk_id': 53718,\n",
      "               'content': 'Ability to prioritize in a fast paced environment'}],\n",
      "  '_id': '56af985e9b1c17c8c854751f',\n",
      "  'content': 'requirements',\n",
      "  'updated': '2016-02-02T13:09:42.157Z'}]\n"
     ]
    }
   ],
   "source": [
    "url = (\"http://localhost:8082/api/populatedTags\");\n",
    "response = requests.get(url)\n",
    "data = json.loads(response.text)\n",
    "pprint(data)"
   ]
  },
  {
   "cell_type": "code",
   "execution_count": 98,
   "metadata": {
    "collapsed": false
   },
   "outputs": [],
   "source": [
    "class TagCorpus(object):\n",
    "    def __iter__(self):\n",
    "        for tag in data:\n",
    "            words = \"\"\n",
    "            for chunk in tag['_chunks']:\n",
    "                words += \" \" + str(chunk['content']);\n",
    "            yield words.split()"
   ]
  },
  {
   "cell_type": "code",
   "execution_count": 99,
   "metadata": {
    "collapsed": false
   },
   "outputs": [
    {
     "name": "stdout",
     "output_type": "stream",
     "text": [
      "<__main__.TagCorpus object at 0x109393cf8>\n"
     ]
    }
   ],
   "source": [
    "corpus = TagCorpus() # doesn't load the corpus into memory!\n",
    "print(corpus)"
   ]
  },
  {
   "cell_type": "code",
   "execution_count": 100,
   "metadata": {
    "collapsed": false
   },
   "outputs": [
    {
     "name": "stdout",
     "output_type": "stream",
     "text": [
      "['The', 'Public', 'Sector', 'Health', 'team', 'is', 'searching', 'for', 'a', 'sales', 'executive', 'to', 'biggest', 'Healthcare', 'customers', 'in', 'Finland.', 'The', 'Account', 'Executive', '(Healthcare)', 'role', 'adds', 'value', 'to', 'Microsoft', 'by', 'delivering', 'a', 'well-managed,', 'profitable', 'and', 'growing', 'business', 'produced', 'through', 'relationship-', 'and', 'sales-excellence', 'practices', 'where', 'the', 'customer', 'views', 'the', 'Account', 'Executive', 'as', 'a', 'trusted', 'advisor.', 'Vertical', 'understanding', 'of', 'Healthcare', 'and', 'solutions.', 'Sales', 'Excellence', 'in', 'Relationship', 'Management,', 'Opportunity', 'Management', 'and', 'Business', 'Management', 'enabled', 'through', 'tools,', 'processes', 'and', 'scorecards.', 'Together,', 'they', 'build', 'strong', 'trusted', 'advisor', 'relationships,', 'yield', 'high', 'customer', 'satisfaction', 'and', 'goal', 'attainment.']\n",
      "['Account', 'Executive', 'Health', '(902280)']\n",
      "['As', 'a', 'Account', 'Executive', 'and', 'Health', 'Lead', 'your', 'key', 'responsibilities', 'would', 'be:', 'Drive', 'Microsoft', 'towards', 'trusted', 'advisor', 'status', 'with', 'select', 'customers', 'and', 'build', 'relationships', 'with', 'key', 'executives.', 'Own', 'the', 'execution', 'of', 'large', 'or', 'strategic', 'opportunities', 'within', 'assigned', 'accounts', 'through', 'closure.', 'Lead', 'Strategic', 'Planning', 'of', 'Health', 'sector', 'in', 'Finland', 'to', 'growth.', 'Orchestrate', 'partner', 'and', 'Microsoft', 'resources', 'to', 'drive', 'opportunities', 'to', 'closure.', 'Validate', 'customer', '&amp;', 'partner', 'satisfaction', 'throughout', 'the', 'sales', 'cycle;', 'conduct', 'win/loss', 'reviews.']\n",
      "['Microsoft', 'is', 'an', 'equal', 'opportunity', 'employer', 'and', 'supports', 'workforce', 'diversity.']\n",
      "['Key', 'reponsibilities', 'and', 'tasks', 'Development', 'of', 'profitable', 'customer', 'solutions,', 'with', 'a', 'holistic', 'view', 'on', 'the', 'customer', 'needs', 'and', 'services', 'delivered', 'by', 'Nets', 'Participate', 'in', 'customer', 'pre-study', 'projects', 'and', 'RFP', 'processes', 'The', 'ideal', 'candidate', 'will', 'have', 'at', 'least', '5', 'years', 'of', 'competitive', 'sales', 'experience', 'in', 'Healthcare', 'segment', 'as', 'well', 'as', 'being', 'from', 'a', 'like', 'industry', 'and', 'will', 'also', 'have', 'a', 'strong', 'background', 'in', 'contract', 'and', 'licensing', 'negotiations.', 'Requirements', 'Excellent', 'organizational', 'skills,', 'with', 'strong', 'attention', 'to', 'detail', '5-10+', 'years', 'of', 'like', 'sales', 'experience', 'on', 'Healthcare', 'vertical..', 'Motivated', 'self-starter', 'with', 'history', 'of', 'operating', 'as', 'a', 'leader', 'of', 'teams', 'that', 'are', 'not', 'direct', 'reports', 'Strong', 'interpersonal', 'skills', 'Outstanding', 'collaborator', 'across', 'groups', 'and', 'companies', 'Ability', 'to', 'prioritize', 'in', 'a', 'fast', 'paced', 'environment']\n"
     ]
    }
   ],
   "source": [
    "for vector in corpus: # load one vector into memory at a time\n",
    "    print(vector)"
   ]
  },
  {
   "cell_type": "code",
   "execution_count": 101,
   "metadata": {
    "collapsed": false
   },
   "outputs": [
    {
     "name": "stdout",
     "output_type": "stream",
     "text": [
      "Dictionary(179 unique tokens: ['opportunity', 'key', 'opportunities', 'high', 'well-managed,']...)\n"
     ]
    }
   ],
   "source": [
    "stoplist = set('for a of the and to in'.split())\n",
    "# collect statistics about all tokens\n",
    "dictionary = corpora.Dictionary(vector for vector in corpus)\n",
    "# remove stop words and words that appear only once\n",
    "stop_ids = [dictionary.token2id[stopword] for stopword in stoplist\n",
    "            if stopword in dictionary.token2id]\n",
    "once_ids = [tokenid for tokenid, docfreq in dictionary.dfs.items() if docfreq == 1]\n",
    "\n",
    "# dictionary.filter_tokens(stop_ids + once_ids) # remove stop words and words that appear only once\n",
    "dictionary.filter_tokens(stop_ids)\n",
    "\n",
    "dictionary.compactify() # remove gaps in id sequence after words that were removed\n",
    "print(dictionary)"
   ]
  }
 ],
 "metadata": {
  "kernelspec": {
   "display_name": "Python 3",
   "language": "python",
   "name": "python3"
  },
  "language_info": {
   "codemirror_mode": {
    "name": "ipython",
    "version": 3
   },
   "file_extension": ".py",
   "mimetype": "text/x-python",
   "name": "python",
   "nbconvert_exporter": "python",
   "pygments_lexer": "ipython3",
   "version": "3.5.1"
  }
 },
 "nbformat": 4,
 "nbformat_minor": 0
}

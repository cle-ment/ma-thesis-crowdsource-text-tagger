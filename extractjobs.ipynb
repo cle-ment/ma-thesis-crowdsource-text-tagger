{
 "cells": [
  {
   "cell_type": "code",
   "execution_count": 365,
   "metadata": {
    "collapsed": false
   },
   "outputs": [],
   "source": [
    "import json\n",
    "import os\n",
    "import pandas as pd"
   ]
  },
  {
   "cell_type": "markdown",
   "metadata": {},
   "source": [
    "Read english job ads"
   ]
  },
  {
   "cell_type": "code",
   "execution_count": 366,
   "metadata": {
    "collapsed": false
   },
   "outputs": [],
   "source": [
    "df = pd.read_json('/Users/cwestrup/thesis/data/sanoma/oikotie/jobs-en-2015-12-04T11:45:53.720971.json')"
   ]
  },
  {
   "cell_type": "markdown",
   "metadata": {},
   "source": [
    "Select name and job_description"
   ]
  },
  {
   "cell_type": "code",
   "execution_count": 368,
   "metadata": {
    "collapsed": false
   },
   "outputs": [
    {
     "data": {
      "text/html": [
       "<div>\n",
       "<table border=\"1\" class=\"dataframe\">\n",
       "  <thead>\n",
       "    <tr style=\"text-align: right;\">\n",
       "      <th></th>\n",
       "      <th>name</th>\n",
       "      <th>job_description</th>\n",
       "    </tr>\n",
       "  </thead>\n",
       "  <tbody>\n",
       "    <tr>\n",
       "      <th>0</th>\n",
       "      <td>Sandbox Software Engineer (ATP), Backend autom...</td>\n",
       "      <td>Coders needed&lt;br /&gt;\\nWe are looking for passio...</td>\n",
       "    </tr>\n",
       "    <tr>\n",
       "      <th>1</th>\n",
       "      <td>Channel Manager, Cyber Security Services Nordics</td>\n",
       "      <td>F-Secure offers an exciting and challenging po...</td>\n",
       "    </tr>\n",
       "    <tr>\n",
       "      <th>2</th>\n",
       "      <td>Experienced Software Engineer in Test (ATP)</td>\n",
       "      <td>Coders needed&lt;br /&gt;\\nWe’re looking for softwar...</td>\n",
       "    </tr>\n",
       "    <tr>\n",
       "      <th>3</th>\n",
       "      <td>Experienced Software Engineer (ATP), Network S...</td>\n",
       "      <td>We’re looking for software engineers who can d...</td>\n",
       "    </tr>\n",
       "    <tr>\n",
       "      <th>4</th>\n",
       "      <td>Big Data &amp; Machine Learning Software Engineer ...</td>\n",
       "      <td>We are looking for passionate Software Enginee...</td>\n",
       "    </tr>\n",
       "  </tbody>\n",
       "</table>\n",
       "</div>"
      ],
      "text/plain": [
       "                                                name  \\\n",
       "0  Sandbox Software Engineer (ATP), Backend autom...   \n",
       "1   Channel Manager, Cyber Security Services Nordics   \n",
       "2        Experienced Software Engineer in Test (ATP)   \n",
       "3  Experienced Software Engineer (ATP), Network S...   \n",
       "4  Big Data & Machine Learning Software Engineer ...   \n",
       "\n",
       "                                     job_description  \n",
       "0  Coders needed<br />\\nWe are looking for passio...  \n",
       "1  F-Secure offers an exciting and challenging po...  \n",
       "2  Coders needed<br />\\nWe’re looking for softwar...  \n",
       "3  We’re looking for software engineers who can d...  \n",
       "4  We are looking for passionate Software Enginee...  "
      ]
     },
     "execution_count": 368,
     "metadata": {},
     "output_type": "execute_result"
    }
   ],
   "source": [
    "df = df.loc[:,['name','job_description']]\n",
    "df.head()"
   ]
  },
  {
   "cell_type": "code",
   "execution_count": 353,
   "metadata": {
    "collapsed": false
   },
   "outputs": [
    {
     "data": {
      "text/plain": [
       "'Coders needed<br />\\nWe are looking for passionate Software Engineer to develop advanced virtualized sandbox execution and analysis environment. In this position, you will work as part of a team creating a world-class runtime behavioral analysis platform. The right candidate will have a deep understanding of virtualization and virtual machine instrumentation. <br />\\n<br />\\nWhat’s in it for me?<br />\\n<br />\\nAs part of the ATP team, you’ll be pioneering something new for F-Secure, in a field that is experiencing rapid growth. Our goal is to become a market leader in the European cyber-security space. You’ll be working alongside experts in a dynamic and international environment. As a new project inside F-Secure, you’ll get to define the way you work and shape the future of this exciting new endeavor. We offer flexibility in the workplace and a vibrant company culture. This position offers a diverse range of paths towards success and career growth.<br />\\n<br />\\nHow to stand out as an applicant? <br />\\n<br />\\nThe following experience is an absolute must:<br />\\n• Extensive prior experience with hypervisors (e.g. KVM, XEN, VMWare). Cloud infrastructure skills (e.g. Openstack) are a plus<br />\\n• We value prior experience integrating the above methodologies into production backend systems<br />\\n• Understanding of quality practices, continuous integration and unit testing principles<br />\\n• We value experience working with public or private clouds<br />\\n<br />\\nFurther information and how to apply<br />\\n<br />\\nStill wondering about something? Feel free to ask more by contacting us at atp-recruitment@f-secure.com. <br />\\n<br />\\nWe’re processing applications right now, so don’t hesitate to apply immediately. In your application, be sure to cover your past skills and qualifications as well as your future aspirations and goals. We look forward to hearing from you!<br />\\n<br />\\nA security background check will be conducted for the selected candidate, in accordance with the Finnish Security Clearance act 726/2014.'"
      ]
     },
     "execution_count": 353,
     "metadata": {},
     "output_type": "execute_result"
    }
   ],
   "source": [
    "df.job_description[0]"
   ]
  },
  {
   "cell_type": "markdown",
   "metadata": {},
   "source": [
    "Write out all jobs with names and full description text"
   ]
  },
  {
   "cell_type": "code",
   "execution_count": 370,
   "metadata": {
    "collapsed": true
   },
   "outputs": [],
   "source": [
    "df.index.name = 'ad_id'\n",
    "df.to_csv('alljobs.csv')"
   ]
  },
  {
   "cell_type": "markdown",
   "metadata": {},
   "source": [
    "### Creating text chunks (paragraphs)"
   ]
  },
  {
   "cell_type": "markdown",
   "metadata": {},
   "source": [
    "Select job descriptions"
   ]
  },
  {
   "cell_type": "code",
   "execution_count": 371,
   "metadata": {
    "collapsed": true
   },
   "outputs": [],
   "source": [
    "df_chunks = df.loc[:,['job_description']]"
   ]
  },
  {
   "cell_type": "markdown",
   "metadata": {},
   "source": [
    "Replace '\\n' by html br"
   ]
  },
  {
   "cell_type": "code",
   "execution_count": 372,
   "metadata": {
    "collapsed": true
   },
   "outputs": [],
   "source": [
    "to_spaces = '\\n'\n",
    "df_chunks = df_chunks.replace({'\\n': '<br>'}, regex=True)"
   ]
  },
  {
   "cell_type": "markdown",
   "metadata": {},
   "source": [
    "Replace html 'br' variants with 'BREAK'"
   ]
  },
  {
   "cell_type": "code",
   "execution_count": 373,
   "metadata": {
    "collapsed": true
   },
   "outputs": [],
   "source": [
    "to_paragraph_breaks = '(<br />)+|(<br/>)+|(<br>)+|(</br>)+'\n",
    "df_chunks = df_chunks.replace(to_replace=to_paragraph_breaks, value='<BREAK>', regex=True)"
   ]
  },
  {
   "cell_type": "markdown",
   "metadata": {},
   "source": [
    "Add break after html p tags"
   ]
  },
  {
   "cell_type": "code",
   "execution_count": 374,
   "metadata": {
    "collapsed": true
   },
   "outputs": [],
   "source": [
    "to_paragraph_breaks = '</p>|</ p>'\n",
    "df_chunks = df_chunks.replace(to_replace=to_paragraph_breaks, value='</p><BREAK>', regex=True)"
   ]
  },
  {
   "cell_type": "markdown",
   "metadata": {},
   "source": [
    "Remove all multiple occurences of BREAK tag"
   ]
  },
  {
   "cell_type": "code",
   "execution_count": 375,
   "metadata": {
    "collapsed": true
   },
   "outputs": [],
   "source": [
    "df_chunks = df_chunks.replace(to_replace='(<BREAK>)+', value='<BREAK>', regex=True)"
   ]
  },
  {
   "cell_type": "markdown",
   "metadata": {},
   "source": [
    "Split rows by BREAK tags and stack up to a new DataFrame"
   ]
  },
  {
   "cell_type": "code",
   "execution_count": 376,
   "metadata": {
    "collapsed": false
   },
   "outputs": [],
   "source": [
    "df_chunks = df_chunks['job_description'].str.split('<BREAK>').apply(pd.Series)\n",
    "df_chunks = df_chunks.stack().to_frame()\n",
    "df_chunks.index.names = ['ad_id', 'chunk_id']\n",
    "df_chunks.columns = ['content']"
   ]
  },
  {
   "cell_type": "code",
   "execution_count": 377,
   "metadata": {
    "collapsed": false,
    "scrolled": true
   },
   "outputs": [
    {
     "data": {
      "text/html": [
       "<div>\n",
       "<table border=\"1\" class=\"dataframe\">\n",
       "  <thead>\n",
       "    <tr style=\"text-align: right;\">\n",
       "      <th></th>\n",
       "      <th></th>\n",
       "      <th>content</th>\n",
       "    </tr>\n",
       "    <tr>\n",
       "      <th>ad_id</th>\n",
       "      <th>chunk_id</th>\n",
       "      <th></th>\n",
       "    </tr>\n",
       "  </thead>\n",
       "  <tbody>\n",
       "    <tr>\n",
       "      <th rowspan=\"10\" valign=\"top\">0</th>\n",
       "      <th>0</th>\n",
       "      <td>Coders needed</td>\n",
       "    </tr>\n",
       "    <tr>\n",
       "      <th>1</th>\n",
       "      <td>We are looking for passionate Software Enginee...</td>\n",
       "    </tr>\n",
       "    <tr>\n",
       "      <th>2</th>\n",
       "      <td>What’s in it for me?</td>\n",
       "    </tr>\n",
       "    <tr>\n",
       "      <th>3</th>\n",
       "      <td>As part of the ATP team, you’ll be pioneering ...</td>\n",
       "    </tr>\n",
       "    <tr>\n",
       "      <th>4</th>\n",
       "      <td>How to stand out as an applicant?</td>\n",
       "    </tr>\n",
       "    <tr>\n",
       "      <th>5</th>\n",
       "      <td>The following experience is an absolute must:</td>\n",
       "    </tr>\n",
       "    <tr>\n",
       "      <th>6</th>\n",
       "      <td>• Extensive prior experience with hypervisors ...</td>\n",
       "    </tr>\n",
       "    <tr>\n",
       "      <th>7</th>\n",
       "      <td>• We value prior experience integrating the ab...</td>\n",
       "    </tr>\n",
       "    <tr>\n",
       "      <th>8</th>\n",
       "      <td>• Understanding of quality practices, continuo...</td>\n",
       "    </tr>\n",
       "    <tr>\n",
       "      <th>9</th>\n",
       "      <td>• We value experience working with public or p...</td>\n",
       "    </tr>\n",
       "  </tbody>\n",
       "</table>\n",
       "</div>"
      ],
      "text/plain": [
       "                                                          content\n",
       "ad_id chunk_id                                                   \n",
       "0     0                                             Coders needed\n",
       "      1         We are looking for passionate Software Enginee...\n",
       "      2                                      What’s in it for me?\n",
       "      3         As part of the ATP team, you’ll be pioneering ...\n",
       "      4                        How to stand out as an applicant? \n",
       "      5             The following experience is an absolute must:\n",
       "      6         • Extensive prior experience with hypervisors ...\n",
       "      7         • We value prior experience integrating the ab...\n",
       "      8         • Understanding of quality practices, continuo...\n",
       "      9         • We value experience working with public or p..."
      ]
     },
     "execution_count": 377,
     "metadata": {},
     "output_type": "execute_result"
    }
   ],
   "source": [
    "df_chunks.head(10)"
   ]
  },
  {
   "cell_type": "code",
   "execution_count": 378,
   "metadata": {
    "collapsed": false
   },
   "outputs": [],
   "source": [
    "df_chunks.to_csv('chunks.csv')"
   ]
  },
  {
   "cell_type": "markdown",
   "metadata": {},
   "source": [
    "Import into MongoDB with:\n",
    "\n",
    "     mongoimport -d thesis -c ads --type csv --file ./alljobs.csv --headerline\n",
    "     mongoimport -d thesis -c chunks --type csv --file ./chunks.csv --headerline"
   ]
  }
 ],
 "metadata": {
  "kernelspec": {
   "display_name": "Python 3",
   "language": "python",
   "name": "python3"
  },
  "language_info": {
   "codemirror_mode": {
    "name": "ipython",
    "version": 3
   },
   "file_extension": ".py",
   "mimetype": "text/x-python",
   "name": "python",
   "nbconvert_exporter": "python",
   "pygments_lexer": "ipython3",
   "version": "3.5.1"
  }
 },
 "nbformat": 4,
 "nbformat_minor": 0
}

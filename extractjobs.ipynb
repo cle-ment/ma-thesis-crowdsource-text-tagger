{
 "cells": [
  {
   "cell_type": "code",
   "execution_count": 505,
   "metadata": {
    "collapsed": false
   },
   "outputs": [],
   "source": [
    "import json\n",
    "import os\n",
    "import pandas as pd"
   ]
  },
  {
   "cell_type": "markdown",
   "metadata": {},
   "source": [
    "Read english job ads"
   ]
  },
  {
   "cell_type": "code",
   "execution_count": 506,
   "metadata": {
    "collapsed": false
   },
   "outputs": [],
   "source": [
    "df = pd.read_json('/Users/cwestrup/thesis/data/sanoma/oikotie/jobs-en-2015-12-04T11:45:53.720971.json')"
   ]
  },
  {
   "cell_type": "markdown",
   "metadata": {},
   "source": [
    "Select name and job_description"
   ]
  },
  {
   "cell_type": "code",
   "execution_count": 507,
   "metadata": {
    "collapsed": false
   },
   "outputs": [
    {
     "data": {
      "text/html": [
       "<div>\n",
       "<table border=\"1\" class=\"dataframe\">\n",
       "  <thead>\n",
       "    <tr style=\"text-align: right;\">\n",
       "      <th></th>\n",
       "      <th>title</th>\n",
       "      <th>content</th>\n",
       "    </tr>\n",
       "  </thead>\n",
       "  <tbody>\n",
       "    <tr>\n",
       "      <th>0</th>\n",
       "      <td>Sandbox Software Engineer (ATP), Backend autom...</td>\n",
       "      <td>Coders needed&lt;br /&gt;\\nWe are looking for passio...</td>\n",
       "    </tr>\n",
       "    <tr>\n",
       "      <th>1</th>\n",
       "      <td>Channel Manager, Cyber Security Services Nordics</td>\n",
       "      <td>F-Secure offers an exciting and challenging po...</td>\n",
       "    </tr>\n",
       "    <tr>\n",
       "      <th>2</th>\n",
       "      <td>Experienced Software Engineer in Test (ATP)</td>\n",
       "      <td>Coders needed&lt;br /&gt;\\nWe’re looking for softwar...</td>\n",
       "    </tr>\n",
       "    <tr>\n",
       "      <th>3</th>\n",
       "      <td>Experienced Software Engineer (ATP), Network S...</td>\n",
       "      <td>We’re looking for software engineers who can d...</td>\n",
       "    </tr>\n",
       "    <tr>\n",
       "      <th>4</th>\n",
       "      <td>Big Data &amp; Machine Learning Software Engineer ...</td>\n",
       "      <td>We are looking for passionate Software Enginee...</td>\n",
       "    </tr>\n",
       "  </tbody>\n",
       "</table>\n",
       "</div>"
      ],
      "text/plain": [
       "                                               title  \\\n",
       "0  Sandbox Software Engineer (ATP), Backend autom...   \n",
       "1   Channel Manager, Cyber Security Services Nordics   \n",
       "2        Experienced Software Engineer in Test (ATP)   \n",
       "3  Experienced Software Engineer (ATP), Network S...   \n",
       "4  Big Data & Machine Learning Software Engineer ...   \n",
       "\n",
       "                                             content  \n",
       "0  Coders needed<br />\\nWe are looking for passio...  \n",
       "1  F-Secure offers an exciting and challenging po...  \n",
       "2  Coders needed<br />\\nWe’re looking for softwar...  \n",
       "3  We’re looking for software engineers who can d...  \n",
       "4  We are looking for passionate Software Enginee...  "
      ]
     },
     "execution_count": 507,
     "metadata": {},
     "output_type": "execute_result"
    }
   ],
   "source": [
    "df = df.loc[:,['name','job_description']]\n",
    "df.columns = ['title', 'content']\n",
    "df.head()"
   ]
  },
  {
   "cell_type": "markdown",
   "metadata": {},
   "source": [
    "Write out all jobs with names and full description text"
   ]
  },
  {
   "cell_type": "code",
   "execution_count": 508,
   "metadata": {
    "collapsed": true
   },
   "outputs": [],
   "source": [
    "df.index.name = 'ad_id'\n",
    "df.to_csv('./data/alljobs.csv')"
   ]
  },
  {
   "cell_type": "markdown",
   "metadata": {},
   "source": [
    "### Creating text chunks (paragraphs)"
   ]
  },
  {
   "cell_type": "markdown",
   "metadata": {},
   "source": [
    "Select job descriptions"
   ]
  },
  {
   "cell_type": "code",
   "execution_count": 509,
   "metadata": {
    "collapsed": false
   },
   "outputs": [],
   "source": [
    "df_chunks = df.loc[:,['content']]"
   ]
  },
  {
   "cell_type": "markdown",
   "metadata": {},
   "source": [
    "Replace '\\n' by html br"
   ]
  },
  {
   "cell_type": "code",
   "execution_count": 510,
   "metadata": {
    "collapsed": true
   },
   "outputs": [],
   "source": [
    "to_spaces = '\\n'\n",
    "df_chunks = df_chunks.replace({'\\n': '<br>'}, regex=True)"
   ]
  },
  {
   "cell_type": "markdown",
   "metadata": {},
   "source": [
    "Replace html 'br' variants with 'BREAK'"
   ]
  },
  {
   "cell_type": "code",
   "execution_count": 511,
   "metadata": {
    "collapsed": true
   },
   "outputs": [],
   "source": [
    "to_paragraph_breaks = '(<br />)+|(<br/>)+|(<br>)+|(</br>)+'\n",
    "df_chunks = df_chunks.replace(to_replace=to_paragraph_breaks, value='<BREAK>', regex=True)"
   ]
  },
  {
   "cell_type": "markdown",
   "metadata": {},
   "source": [
    "Add break after html p tags"
   ]
  },
  {
   "cell_type": "code",
   "execution_count": 512,
   "metadata": {
    "collapsed": true
   },
   "outputs": [],
   "source": [
    "to_paragraph_breaks = '</p>|</ p>'\n",
    "df_chunks = df_chunks.replace(to_replace=to_paragraph_breaks, value='</p><BREAK>', regex=True)"
   ]
  },
  {
   "cell_type": "markdown",
   "metadata": {},
   "source": [
    "Remove all multiple occurences of BREAK tag"
   ]
  },
  {
   "cell_type": "code",
   "execution_count": 513,
   "metadata": {
    "collapsed": true
   },
   "outputs": [],
   "source": [
    "df_chunks = df_chunks.replace(to_replace='(<BREAK>)+', value='<BREAK>', regex=True)"
   ]
  },
  {
   "cell_type": "markdown",
   "metadata": {},
   "source": [
    "Split rows by BREAK tags and stack up to a new DataFrame"
   ]
  },
  {
   "cell_type": "code",
   "execution_count": 514,
   "metadata": {
    "collapsed": false
   },
   "outputs": [],
   "source": [
    "df_chunks = df_chunks['content'].str.split('<BREAK>').apply(pd.Series)\n",
    "df_chunks = df_chunks.stack().to_frame()"
   ]
  },
  {
   "cell_type": "code",
   "execution_count": 515,
   "metadata": {
    "collapsed": true
   },
   "outputs": [],
   "source": [
    "df_chunks = df_chunks.reset_index()"
   ]
  },
  {
   "cell_type": "code",
   "execution_count": 516,
   "metadata": {
    "collapsed": false
   },
   "outputs": [],
   "source": [
    "df_chunks.index.name = 'chunk_id'\n",
    "df_chunks.columns = ['ad_id', 'chunk_count', 'content']"
   ]
  },
  {
   "cell_type": "code",
   "execution_count": 517,
   "metadata": {
    "collapsed": false,
    "scrolled": true
   },
   "outputs": [
    {
     "data": {
      "text/html": [
       "<div>\n",
       "<table border=\"1\" class=\"dataframe\">\n",
       "  <thead>\n",
       "    <tr style=\"text-align: right;\">\n",
       "      <th></th>\n",
       "      <th>ad_id</th>\n",
       "      <th>chunk_count</th>\n",
       "      <th>content</th>\n",
       "    </tr>\n",
       "    <tr>\n",
       "      <th>chunk_id</th>\n",
       "      <th></th>\n",
       "      <th></th>\n",
       "      <th></th>\n",
       "    </tr>\n",
       "  </thead>\n",
       "  <tbody>\n",
       "    <tr>\n",
       "      <th>0</th>\n",
       "      <td>0</td>\n",
       "      <td>0</td>\n",
       "      <td>Coders needed</td>\n",
       "    </tr>\n",
       "    <tr>\n",
       "      <th>1</th>\n",
       "      <td>0</td>\n",
       "      <td>1</td>\n",
       "      <td>We are looking for passionate Software Enginee...</td>\n",
       "    </tr>\n",
       "    <tr>\n",
       "      <th>2</th>\n",
       "      <td>0</td>\n",
       "      <td>2</td>\n",
       "      <td>What’s in it for me?</td>\n",
       "    </tr>\n",
       "    <tr>\n",
       "      <th>3</th>\n",
       "      <td>0</td>\n",
       "      <td>3</td>\n",
       "      <td>As part of the ATP team, you’ll be pioneering ...</td>\n",
       "    </tr>\n",
       "    <tr>\n",
       "      <th>4</th>\n",
       "      <td>0</td>\n",
       "      <td>4</td>\n",
       "      <td>How to stand out as an applicant?</td>\n",
       "    </tr>\n",
       "    <tr>\n",
       "      <th>5</th>\n",
       "      <td>0</td>\n",
       "      <td>5</td>\n",
       "      <td>The following experience is an absolute must:</td>\n",
       "    </tr>\n",
       "    <tr>\n",
       "      <th>6</th>\n",
       "      <td>0</td>\n",
       "      <td>6</td>\n",
       "      <td>• Extensive prior experience with hypervisors ...</td>\n",
       "    </tr>\n",
       "    <tr>\n",
       "      <th>7</th>\n",
       "      <td>0</td>\n",
       "      <td>7</td>\n",
       "      <td>• We value prior experience integrating the ab...</td>\n",
       "    </tr>\n",
       "    <tr>\n",
       "      <th>8</th>\n",
       "      <td>0</td>\n",
       "      <td>8</td>\n",
       "      <td>• Understanding of quality practices, continuo...</td>\n",
       "    </tr>\n",
       "    <tr>\n",
       "      <th>9</th>\n",
       "      <td>0</td>\n",
       "      <td>9</td>\n",
       "      <td>• We value experience working with public or p...</td>\n",
       "    </tr>\n",
       "    <tr>\n",
       "      <th>10</th>\n",
       "      <td>0</td>\n",
       "      <td>10</td>\n",
       "      <td>Further information and how to apply</td>\n",
       "    </tr>\n",
       "    <tr>\n",
       "      <th>11</th>\n",
       "      <td>0</td>\n",
       "      <td>11</td>\n",
       "      <td>Still wondering about something? Feel free to ...</td>\n",
       "    </tr>\n",
       "    <tr>\n",
       "      <th>12</th>\n",
       "      <td>0</td>\n",
       "      <td>12</td>\n",
       "      <td>We’re processing applications right now, so do...</td>\n",
       "    </tr>\n",
       "    <tr>\n",
       "      <th>13</th>\n",
       "      <td>0</td>\n",
       "      <td>13</td>\n",
       "      <td>A security background check will be conducted ...</td>\n",
       "    </tr>\n",
       "    <tr>\n",
       "      <th>14</th>\n",
       "      <td>1</td>\n",
       "      <td>0</td>\n",
       "      <td>F-Secure offers an exciting and challenging po...</td>\n",
       "    </tr>\n",
       "    <tr>\n",
       "      <th>15</th>\n",
       "      <td>1</td>\n",
       "      <td>1</td>\n",
       "      <td>The role is highly versatile as it requires ca...</td>\n",
       "    </tr>\n",
       "    <tr>\n",
       "      <th>16</th>\n",
       "      <td>1</td>\n",
       "      <td>2</td>\n",
       "      <td>The task initially consists of four primary de...</td>\n",
       "    </tr>\n",
       "    <tr>\n",
       "      <th>17</th>\n",
       "      <td>1</td>\n",
       "      <td>3</td>\n",
       "      <td>1. Establishing and facilitating internal prod...</td>\n",
       "    </tr>\n",
       "    <tr>\n",
       "      <th>18</th>\n",
       "      <td>1</td>\n",
       "      <td>4</td>\n",
       "      <td>2. Identify, evaluate and sell in the concept ...</td>\n",
       "    </tr>\n",
       "    <tr>\n",
       "      <th>19</th>\n",
       "      <td>1</td>\n",
       "      <td>5</td>\n",
       "      <td>3. Work closely with the F-Secure channel mana...</td>\n",
       "    </tr>\n",
       "  </tbody>\n",
       "</table>\n",
       "</div>"
      ],
      "text/plain": [
       "          ad_id  chunk_count  \\\n",
       "chunk_id                       \n",
       "0             0            0   \n",
       "1             0            1   \n",
       "2             0            2   \n",
       "3             0            3   \n",
       "4             0            4   \n",
       "5             0            5   \n",
       "6             0            6   \n",
       "7             0            7   \n",
       "8             0            8   \n",
       "9             0            9   \n",
       "10            0           10   \n",
       "11            0           11   \n",
       "12            0           12   \n",
       "13            0           13   \n",
       "14            1            0   \n",
       "15            1            1   \n",
       "16            1            2   \n",
       "17            1            3   \n",
       "18            1            4   \n",
       "19            1            5   \n",
       "\n",
       "                                                    content  \n",
       "chunk_id                                                     \n",
       "0                                             Coders needed  \n",
       "1         We are looking for passionate Software Enginee...  \n",
       "2                                      What’s in it for me?  \n",
       "3         As part of the ATP team, you’ll be pioneering ...  \n",
       "4                        How to stand out as an applicant?   \n",
       "5             The following experience is an absolute must:  \n",
       "6         • Extensive prior experience with hypervisors ...  \n",
       "7         • We value prior experience integrating the ab...  \n",
       "8         • Understanding of quality practices, continuo...  \n",
       "9         • We value experience working with public or p...  \n",
       "10                     Further information and how to apply  \n",
       "11        Still wondering about something? Feel free to ...  \n",
       "12        We’re processing applications right now, so do...  \n",
       "13        A security background check will be conducted ...  \n",
       "14        F-Secure offers an exciting and challenging po...  \n",
       "15        The role is highly versatile as it requires ca...  \n",
       "16        The task initially consists of four primary de...  \n",
       "17        1. Establishing and facilitating internal prod...  \n",
       "18        2. Identify, evaluate and sell in the concept ...  \n",
       "19        3. Work closely with the F-Secure channel mana...  "
      ]
     },
     "execution_count": 517,
     "metadata": {},
     "output_type": "execute_result"
    }
   ],
   "source": [
    "df_chunks.head(20)"
   ]
  },
  {
   "cell_type": "code",
   "execution_count": 518,
   "metadata": {
    "collapsed": false
   },
   "outputs": [],
   "source": [
    "df_chunks.to_csv('./data/chunks.csv')"
   ]
  },
  {
   "cell_type": "markdown",
   "metadata": {},
   "source": [
    "Import into MongoDB with:\n",
    "\n",
    "     mongoimport -d thesis -c ads --type csv --file ./data/alljobs.csv --headerline\n",
    "     mongoimport -d thesis -c chunks --type csv --file ./data/chunks.csv --headerline"
   ]
  }
 ],
 "metadata": {
  "kernelspec": {
   "display_name": "Python 3",
   "language": "python",
   "name": "python3"
  },
  "language_info": {
   "codemirror_mode": {
    "name": "ipython",
    "version": 3
   },
   "file_extension": ".py",
   "mimetype": "text/x-python",
   "name": "python",
   "nbconvert_exporter": "python",
   "pygments_lexer": "ipython3",
   "version": "3.5.1"
  }
 },
 "nbformat": 4,
 "nbformat_minor": 0
}

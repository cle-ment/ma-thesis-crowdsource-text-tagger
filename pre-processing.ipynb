{
 "cells": [
  {
   "cell_type": "code",
   "execution_count": 933,
   "metadata": {
    "collapsed": false
   },
   "outputs": [],
   "source": [
    "import json\n",
    "import os\n",
    "import pandas as pd\n",
    "import numpy as np"
   ]
  },
  {
   "cell_type": "markdown",
   "metadata": {},
   "source": [
    "Read english job ads"
   ]
  },
  {
   "cell_type": "code",
   "execution_count": 934,
   "metadata": {
    "collapsed": false
   },
   "outputs": [],
   "source": [
    "df = pd.read_json('/Users/cwestrup/thesis/data/sanoma/oikotie/jobs-en-2015-12-04T11:45:53.720971.json')"
   ]
  },
  {
   "cell_type": "markdown",
   "metadata": {},
   "source": [
    "Select name and job_description"
   ]
  },
  {
   "cell_type": "code",
   "execution_count": 935,
   "metadata": {
    "collapsed": false
   },
   "outputs": [
    {
     "data": {
      "text/html": [
       "<div>\n",
       "<table border=\"1\" class=\"dataframe\">\n",
       "  <thead>\n",
       "    <tr style=\"text-align: right;\">\n",
       "      <th></th>\n",
       "      <th>title</th>\n",
       "      <th>content</th>\n",
       "    </tr>\n",
       "  </thead>\n",
       "  <tbody>\n",
       "    <tr>\n",
       "      <th>0</th>\n",
       "      <td>Sandbox Software Engineer (ATP), Backend autom...</td>\n",
       "      <td>Coders needed&lt;br /&gt;\\nWe are looking for passio...</td>\n",
       "    </tr>\n",
       "    <tr>\n",
       "      <th>1</th>\n",
       "      <td>Channel Manager, Cyber Security Services Nordics</td>\n",
       "      <td>F-Secure offers an exciting and challenging po...</td>\n",
       "    </tr>\n",
       "    <tr>\n",
       "      <th>2</th>\n",
       "      <td>Experienced Software Engineer in Test (ATP)</td>\n",
       "      <td>Coders needed&lt;br /&gt;\\nWe’re looking for softwar...</td>\n",
       "    </tr>\n",
       "    <tr>\n",
       "      <th>3</th>\n",
       "      <td>Experienced Software Engineer (ATP), Network S...</td>\n",
       "      <td>We’re looking for software engineers who can d...</td>\n",
       "    </tr>\n",
       "    <tr>\n",
       "      <th>4</th>\n",
       "      <td>Big Data &amp; Machine Learning Software Engineer ...</td>\n",
       "      <td>We are looking for passionate Software Enginee...</td>\n",
       "    </tr>\n",
       "  </tbody>\n",
       "</table>\n",
       "</div>"
      ],
      "text/plain": [
       "                                               title  \\\n",
       "0  Sandbox Software Engineer (ATP), Backend autom...   \n",
       "1   Channel Manager, Cyber Security Services Nordics   \n",
       "2        Experienced Software Engineer in Test (ATP)   \n",
       "3  Experienced Software Engineer (ATP), Network S...   \n",
       "4  Big Data & Machine Learning Software Engineer ...   \n",
       "\n",
       "                                             content  \n",
       "0  Coders needed<br />\\nWe are looking for passio...  \n",
       "1  F-Secure offers an exciting and challenging po...  \n",
       "2  Coders needed<br />\\nWe’re looking for softwar...  \n",
       "3  We’re looking for software engineers who can d...  \n",
       "4  We are looking for passionate Software Enginee...  "
      ]
     },
     "execution_count": 935,
     "metadata": {},
     "output_type": "execute_result"
    }
   ],
   "source": [
    "df = df.loc[:,['name','job_description']]\n",
    "df.columns = ['title', 'content']\n",
    "df.head()"
   ]
  },
  {
   "cell_type": "markdown",
   "metadata": {},
   "source": [
    "Write out all jobs with names and full description text"
   ]
  },
  {
   "cell_type": "code",
   "execution_count": 936,
   "metadata": {
    "collapsed": true
   },
   "outputs": [],
   "source": [
    "df.index.name = 'ad_id'\n",
    "df.to_csv('./data/ads.csv')"
   ]
  },
  {
   "cell_type": "markdown",
   "metadata": {},
   "source": [
    "### Creating text chunks (paragraphs)"
   ]
  },
  {
   "cell_type": "markdown",
   "metadata": {},
   "source": [
    "Select job descriptions"
   ]
  },
  {
   "cell_type": "code",
   "execution_count": 937,
   "metadata": {
    "collapsed": false
   },
   "outputs": [],
   "source": [
    "df_chunks = df.loc[:,['content']]"
   ]
  },
  {
   "cell_type": "markdown",
   "metadata": {},
   "source": [
    "Replace '\\n' by html br"
   ]
  },
  {
   "cell_type": "code",
   "execution_count": 938,
   "metadata": {
    "collapsed": true
   },
   "outputs": [],
   "source": [
    "to_spaces = '\\n'\n",
    "df_chunks = df_chunks.replace({'\\n': '<br>'}, regex=True)"
   ]
  },
  {
   "cell_type": "markdown",
   "metadata": {},
   "source": [
    "Replace html 'br' variants with 'BREAK'"
   ]
  },
  {
   "cell_type": "code",
   "execution_count": 939,
   "metadata": {
    "collapsed": true
   },
   "outputs": [],
   "source": [
    "to_paragraph_breaks = '(<br />|<br/>|<br>|</br>){1,}'\n",
    "df_chunks = df_chunks.replace(to_replace=to_paragraph_breaks, value='##BREAK##', regex=True)"
   ]
  },
  {
   "cell_type": "markdown",
   "metadata": {},
   "source": [
    "Add break after html p tags"
   ]
  },
  {
   "cell_type": "code",
   "execution_count": 940,
   "metadata": {
    "collapsed": true
   },
   "outputs": [],
   "source": [
    "to_paragraph_breaks = '</p>|</ p>'\n",
    "df_chunks = df_chunks.replace(to_replace=to_paragraph_breaks, value='</p>##BREAK##', regex=True)"
   ]
  },
  {
   "cell_type": "markdown",
   "metadata": {},
   "source": [
    "Remove all multiple occurences of BREAK tag"
   ]
  },
  {
   "cell_type": "code",
   "execution_count": 941,
   "metadata": {
    "collapsed": true
   },
   "outputs": [],
   "source": [
    "df_chunks = df_chunks.replace(to_replace='(##BREAK##)+', value='##BREAK##', regex=True)"
   ]
  },
  {
   "cell_type": "markdown",
   "metadata": {},
   "source": [
    "Strip out all html tags"
   ]
  },
  {
   "cell_type": "code",
   "execution_count": 942,
   "metadata": {
    "collapsed": true
   },
   "outputs": [],
   "source": [
    "df_chunks = df_chunks.replace(to_replace='<[^<]+?>|&nbsp;', value='', regex=True)"
   ]
  },
  {
   "cell_type": "markdown",
   "metadata": {},
   "source": [
    "Split rows by BREAK tags and stack up to a new DataFrame"
   ]
  },
  {
   "cell_type": "code",
   "execution_count": 943,
   "metadata": {
    "collapsed": false
   },
   "outputs": [],
   "source": [
    "df_chunks = df_chunks['content'].str.split('##BREAK##').apply(pd.Series)\n",
    "df_chunks = df_chunks.stack().to_frame()\n",
    "df_chunks.columns = ['content']"
   ]
  },
  {
   "cell_type": "markdown",
   "metadata": {},
   "source": [
    "Remove empty rows:"
   ]
  },
  {
   "cell_type": "code",
   "execution_count": 944,
   "metadata": {
    "collapsed": false
   },
   "outputs": [
    {
     "data": {
      "text/plain": [
       "178594"
      ]
     },
     "execution_count": 944,
     "metadata": {},
     "output_type": "execute_result"
    }
   ],
   "source": [
    "df_chunks.size"
   ]
  },
  {
   "cell_type": "code",
   "execution_count": 945,
   "metadata": {
    "collapsed": false
   },
   "outputs": [],
   "source": [
    "df_chunks['content'].replace('', np.nan, inplace=True)\n",
    "df_chunks.dropna(subset=['content'], inplace=True)"
   ]
  },
  {
   "cell_type": "code",
   "execution_count": 946,
   "metadata": {
    "collapsed": false
   },
   "outputs": [
    {
     "data": {
      "text/plain": [
       "138166"
      ]
     },
     "execution_count": 946,
     "metadata": {},
     "output_type": "execute_result"
    }
   ],
   "source": [
    "df_chunks.size"
   ]
  },
  {
   "cell_type": "markdown",
   "metadata": {},
   "source": [
    "Rename the indices and columns for the csv"
   ]
  },
  {
   "cell_type": "code",
   "execution_count": 947,
   "metadata": {
    "collapsed": true
   },
   "outputs": [],
   "source": [
    "df_chunks = df_chunks.reset_index()"
   ]
  },
  {
   "cell_type": "code",
   "execution_count": 948,
   "metadata": {
    "collapsed": false
   },
   "outputs": [],
   "source": [
    "df_chunks.index.name = 'chunk_id'\n",
    "df_chunks.columns = ['ad_id', 'drop', 'content']\n",
    "df_chunks = df_chunks.drop('drop', 1)"
   ]
  },
  {
   "cell_type": "code",
   "execution_count": 949,
   "metadata": {
    "collapsed": false,
    "scrolled": true
   },
   "outputs": [
    {
     "data": {
      "text/html": [
       "<div>\n",
       "<table border=\"1\" class=\"dataframe\">\n",
       "  <thead>\n",
       "    <tr style=\"text-align: right;\">\n",
       "      <th></th>\n",
       "      <th>ad_id</th>\n",
       "      <th>content</th>\n",
       "    </tr>\n",
       "    <tr>\n",
       "      <th>chunk_id</th>\n",
       "      <th></th>\n",
       "      <th></th>\n",
       "    </tr>\n",
       "  </thead>\n",
       "  <tbody>\n",
       "    <tr>\n",
       "      <th>0</th>\n",
       "      <td>0</td>\n",
       "      <td>Coders needed</td>\n",
       "    </tr>\n",
       "    <tr>\n",
       "      <th>1</th>\n",
       "      <td>0</td>\n",
       "      <td>We are looking for passionate Software Enginee...</td>\n",
       "    </tr>\n",
       "    <tr>\n",
       "      <th>2</th>\n",
       "      <td>0</td>\n",
       "      <td>What’s in it for me?</td>\n",
       "    </tr>\n",
       "    <tr>\n",
       "      <th>3</th>\n",
       "      <td>0</td>\n",
       "      <td>As part of the ATP team, you’ll be pioneering ...</td>\n",
       "    </tr>\n",
       "    <tr>\n",
       "      <th>4</th>\n",
       "      <td>0</td>\n",
       "      <td>How to stand out as an applicant?</td>\n",
       "    </tr>\n",
       "    <tr>\n",
       "      <th>5</th>\n",
       "      <td>0</td>\n",
       "      <td>The following experience is an absolute must:</td>\n",
       "    </tr>\n",
       "    <tr>\n",
       "      <th>6</th>\n",
       "      <td>0</td>\n",
       "      <td>• Extensive prior experience with hypervisors ...</td>\n",
       "    </tr>\n",
       "    <tr>\n",
       "      <th>7</th>\n",
       "      <td>0</td>\n",
       "      <td>• We value prior experience integrating the ab...</td>\n",
       "    </tr>\n",
       "    <tr>\n",
       "      <th>8</th>\n",
       "      <td>0</td>\n",
       "      <td>• Understanding of quality practices, continuo...</td>\n",
       "    </tr>\n",
       "    <tr>\n",
       "      <th>9</th>\n",
       "      <td>0</td>\n",
       "      <td>• We value experience working with public or p...</td>\n",
       "    </tr>\n",
       "    <tr>\n",
       "      <th>10</th>\n",
       "      <td>0</td>\n",
       "      <td>Further information and how to apply</td>\n",
       "    </tr>\n",
       "    <tr>\n",
       "      <th>11</th>\n",
       "      <td>0</td>\n",
       "      <td>Still wondering about something? Feel free to ...</td>\n",
       "    </tr>\n",
       "    <tr>\n",
       "      <th>12</th>\n",
       "      <td>0</td>\n",
       "      <td>We’re processing applications right now, so do...</td>\n",
       "    </tr>\n",
       "    <tr>\n",
       "      <th>13</th>\n",
       "      <td>0</td>\n",
       "      <td>A security background check will be conducted ...</td>\n",
       "    </tr>\n",
       "    <tr>\n",
       "      <th>14</th>\n",
       "      <td>1</td>\n",
       "      <td>F-Secure offers an exciting and challenging po...</td>\n",
       "    </tr>\n",
       "    <tr>\n",
       "      <th>15</th>\n",
       "      <td>1</td>\n",
       "      <td>The role is highly versatile as it requires ca...</td>\n",
       "    </tr>\n",
       "    <tr>\n",
       "      <th>16</th>\n",
       "      <td>1</td>\n",
       "      <td>The task initially consists of four primary de...</td>\n",
       "    </tr>\n",
       "    <tr>\n",
       "      <th>17</th>\n",
       "      <td>1</td>\n",
       "      <td>1. Establishing and facilitating internal prod...</td>\n",
       "    </tr>\n",
       "    <tr>\n",
       "      <th>18</th>\n",
       "      <td>1</td>\n",
       "      <td>2. Identify, evaluate and sell in the concept ...</td>\n",
       "    </tr>\n",
       "    <tr>\n",
       "      <th>19</th>\n",
       "      <td>1</td>\n",
       "      <td>3. Work closely with the F-Secure channel mana...</td>\n",
       "    </tr>\n",
       "    <tr>\n",
       "      <th>20</th>\n",
       "      <td>1</td>\n",
       "      <td>4. Further expand the business model when it i...</td>\n",
       "    </tr>\n",
       "    <tr>\n",
       "      <th>21</th>\n",
       "      <td>1</td>\n",
       "      <td>Responsibilities:</td>\n",
       "    </tr>\n",
       "    <tr>\n",
       "      <th>22</th>\n",
       "      <td>1</td>\n",
       "      <td>• Establish, structure and drive the Nordic sa...</td>\n",
       "    </tr>\n",
       "    <tr>\n",
       "      <th>23</th>\n",
       "      <td>1</td>\n",
       "      <td>• Plan, forecast and execute on sales budgets ...</td>\n",
       "    </tr>\n",
       "    <tr>\n",
       "      <th>24</th>\n",
       "      <td>1</td>\n",
       "      <td>• Engagement with dedicated partners, create a...</td>\n",
       "    </tr>\n",
       "    <tr>\n",
       "      <th>25</th>\n",
       "      <td>1</td>\n",
       "      <td>• Facilitate technical expertise transfer via ...</td>\n",
       "    </tr>\n",
       "    <tr>\n",
       "      <th>26</th>\n",
       "      <td>1</td>\n",
       "      <td>• Ensure close cooperation with colleagues and...</td>\n",
       "    </tr>\n",
       "    <tr>\n",
       "      <th>27</th>\n",
       "      <td>1</td>\n",
       "      <td>• Develop and mature further services and prod...</td>\n",
       "    </tr>\n",
       "    <tr>\n",
       "      <th>28</th>\n",
       "      <td>1</td>\n",
       "      <td>We expect</td>\n",
       "    </tr>\n",
       "    <tr>\n",
       "      <th>29</th>\n",
       "      <td>1</td>\n",
       "      <td>To be successful in this position you are havi...</td>\n",
       "    </tr>\n",
       "    <tr>\n",
       "      <th>30</th>\n",
       "      <td>1</td>\n",
       "      <td>-Experience of developing sales channels for I...</td>\n",
       "    </tr>\n",
       "    <tr>\n",
       "      <th>31</th>\n",
       "      <td>1</td>\n",
       "      <td>-Knowledge of the IT-channel at least in one o...</td>\n",
       "    </tr>\n",
       "    <tr>\n",
       "      <th>32</th>\n",
       "      <td>1</td>\n",
       "      <td>-Preferably Cyber security business background...</td>\n",
       "    </tr>\n",
       "    <tr>\n",
       "      <th>33</th>\n",
       "      <td>1</td>\n",
       "      <td>-Highly developed social and relation-building...</td>\n",
       "    </tr>\n",
       "    <tr>\n",
       "      <th>34</th>\n",
       "      <td>1</td>\n",
       "      <td>-Creativity in the market approach, showing st...</td>\n",
       "    </tr>\n",
       "    <tr>\n",
       "      <th>35</th>\n",
       "      <td>1</td>\n",
       "      <td>-Confident presentation skills</td>\n",
       "    </tr>\n",
       "    <tr>\n",
       "      <th>36</th>\n",
       "      <td>1</td>\n",
       "      <td>-Ability to focus strongly on the short term p...</td>\n",
       "    </tr>\n",
       "    <tr>\n",
       "      <th>37</th>\n",
       "      <td>1</td>\n",
       "      <td>-Very high activity level and much structured ...</td>\n",
       "    </tr>\n",
       "    <tr>\n",
       "      <th>38</th>\n",
       "      <td>1</td>\n",
       "      <td>-Relevant higher level educational background</td>\n",
       "    </tr>\n",
       "    <tr>\n",
       "      <th>39</th>\n",
       "      <td>1</td>\n",
       "      <td>A security background check will be conducted ...</td>\n",
       "    </tr>\n",
       "  </tbody>\n",
       "</table>\n",
       "</div>"
      ],
      "text/plain": [
       "          ad_id                                            content\n",
       "chunk_id                                                          \n",
       "0             0                                      Coders needed\n",
       "1             0  We are looking for passionate Software Enginee...\n",
       "2             0                               What’s in it for me?\n",
       "3             0  As part of the ATP team, you’ll be pioneering ...\n",
       "4             0                 How to stand out as an applicant? \n",
       "5             0      The following experience is an absolute must:\n",
       "6             0  • Extensive prior experience with hypervisors ...\n",
       "7             0  • We value prior experience integrating the ab...\n",
       "8             0  • Understanding of quality practices, continuo...\n",
       "9             0  • We value experience working with public or p...\n",
       "10            0               Further information and how to apply\n",
       "11            0  Still wondering about something? Feel free to ...\n",
       "12            0  We’re processing applications right now, so do...\n",
       "13            0  A security background check will be conducted ...\n",
       "14            1  F-Secure offers an exciting and challenging po...\n",
       "15            1  The role is highly versatile as it requires ca...\n",
       "16            1  The task initially consists of four primary de...\n",
       "17            1  1. Establishing and facilitating internal prod...\n",
       "18            1  2. Identify, evaluate and sell in the concept ...\n",
       "19            1  3. Work closely with the F-Secure channel mana...\n",
       "20            1  4. Further expand the business model when it i...\n",
       "21            1                                 Responsibilities: \n",
       "22            1  • Establish, structure and drive the Nordic sa...\n",
       "23            1  • Plan, forecast and execute on sales budgets ...\n",
       "24            1  • Engagement with dedicated partners, create a...\n",
       "25            1  • Facilitate technical expertise transfer via ...\n",
       "26            1  • Ensure close cooperation with colleagues and...\n",
       "27            1  • Develop and mature further services and prod...\n",
       "28            1                                          We expect\n",
       "29            1  To be successful in this position you are havi...\n",
       "30            1  -Experience of developing sales channels for I...\n",
       "31            1  -Knowledge of the IT-channel at least in one o...\n",
       "32            1  -Preferably Cyber security business background...\n",
       "33            1  -Highly developed social and relation-building...\n",
       "34            1  -Creativity in the market approach, showing st...\n",
       "35            1                    -Confident presentation skills \n",
       "36            1  -Ability to focus strongly on the short term p...\n",
       "37            1  -Very high activity level and much structured ...\n",
       "38            1      -Relevant higher level educational background\n",
       "39            1  A security background check will be conducted ..."
      ]
     },
     "execution_count": 949,
     "metadata": {},
     "output_type": "execute_result"
    }
   ],
   "source": [
    "df_chunks.head(40)"
   ]
  },
  {
   "cell_type": "code",
   "execution_count": 950,
   "metadata": {
    "collapsed": false
   },
   "outputs": [],
   "source": [
    "df_chunks.to_csv('./data/chunks.csv')"
   ]
  },
  {
   "cell_type": "markdown",
   "metadata": {},
   "source": [
    "Import into MongoDB with:\n",
    "\n",
    "     mongoimport -d thesis -c ads --type csv --file ./data/alljobs.csv --headerline\n",
    "     mongoimport -d thesis -c chunks --type csv --file ./data/chunks.csv --headerline"
   ]
  }
 ],
 "metadata": {
  "kernelspec": {
   "display_name": "Python 3",
   "language": "python",
   "name": "python3"
  },
  "language_info": {
   "codemirror_mode": {
    "name": "ipython",
    "version": 3
   },
   "file_extension": ".py",
   "mimetype": "text/x-python",
   "name": "python",
   "nbconvert_exporter": "python",
   "pygments_lexer": "ipython3",
   "version": "3.5.1"
  }
 },
 "nbformat": 4,
 "nbformat_minor": 0
}
